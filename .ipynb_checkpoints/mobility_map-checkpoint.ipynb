{
 "cells": [
  {
   "cell_type": "code",
   "execution_count": 1,
   "metadata": {},
   "outputs": [],
   "source": [
    "from urllib.request import urlopen\n",
    "import json\n",
    "import pandas as pd\n",
    "import plotly.express as px\n",
    "import numpy as np\n",
    "import re\n",
    "import plotly.graph_objs as go\n",
    "import matplotlib.pyplot as plt\n",
    "from matplotlib.animation import FuncAnimation\n",
    "from datetime import datetime"
   ]
  },
  {
   "cell_type": "code",
   "execution_count": 2,
   "metadata": {},
   "outputs": [],
   "source": [
    "with urlopen('https://raw.githubusercontent.com/plotly/datasets/master/geojson-counties-fips.json') as response:\n",
    "    counties = json.load(response)"
   ]
  },
  {
   "cell_type": "markdown",
   "metadata": {},
   "source": [
    "## Mobility Data and COVID Data Import and Clean"
   ]
  },
  {
   "cell_type": "code",
   "execution_count": 3,
   "metadata": {},
   "outputs": [],
   "source": [
    "fips = pd.read_excel(r'data/fips_codes.xlsx',dtype={'fips':str})\n",
    "full_df = pd.read_excel(r'data/mobility_report_US.xlsx')"
   ]
  },
  {
   "cell_type": "code",
   "execution_count": 68,
   "metadata": {},
   "outputs": [],
   "source": [
    "covid = pd.read_csv(r'data/covid_confirmed.csv',dtype={'countyFIPS':str})"
   ]
  },
  {
   "cell_type": "code",
   "execution_count": 69,
   "metadata": {},
   "outputs": [],
   "source": [
    "date_replace= {}\n",
    "for date in covid.columns[4:]:\n",
    "    if re.search('\\d\\/\\d\\d\\/\\d\\d', date):\n",
    "        date_replace[date] = datetime.strptime(date,'%m/%d/%y').strftime('%Y-%m-%d')\n",
    "    else:\n",
    "        date_replace[date] = datetime.strptime(date,'%m %d %y').strftime('%Y-%m-%d')\n",
    "covid.rename(columns=date_replace,inplace=True)\n",
    "dates= list(date_replace.values())"
   ]
  },
  {
   "cell_type": "code",
   "execution_count": 6,
   "metadata": {},
   "outputs": [],
   "source": [
    "full_df_copy = full_df.copy()"
   ]
  },
  {
   "cell_type": "code",
   "execution_count": 7,
   "metadata": {},
   "outputs": [],
   "source": [
    "full_df_copy.county = full_df.county.str.replace(' County', '').str.replace(' Parish','')"
   ]
  },
  {
   "cell_type": "code",
   "execution_count": 8,
   "metadata": {},
   "outputs": [],
   "source": [
    "us_state_abbrev = {\n",
    "'Alabama': 'AL', 'Alaska': 'AK', 'Arizona': 'AZ', 'Arkansas': 'AR', 'California': 'CA', 'Colorado': 'CO',\n",
    "'Connecticut': 'CT', 'Delaware': 'DE', 'Florida': 'FL', 'Georgia': 'GA', 'Hawaii': 'HI', 'Idaho': 'ID',\n",
    "'Illinois': 'IL', 'Indiana': 'IN', 'Iowa': 'IA', 'Kansas': 'KS', 'Kentucky': 'KY', 'Louisiana': 'LA',\n",
    "'Maine': 'ME', 'Maryland': 'MD', 'Massachusetts': 'MA', 'Michigan': 'MI', 'Minnesota': 'MN', 'Mississippi': 'MS',\n",
    "'Missouri': 'MO', 'Montana': 'MT', 'Nebraska': 'NE', 'Nevada': 'NV', 'New Hampshire': 'NH', 'New Jersey': 'NJ',\n",
    "'New Mexico': 'NM', 'New York': 'NY', 'North Carolina': 'NC', 'North Dakota': 'ND', 'Ohio': 'OH', 'Oklahoma': 'OK',\n",
    "'Oregon': 'OR', 'Pennsylvania': 'PA', 'Rhode Island': 'RI', 'South Carolina': 'SC', 'South Dakota': 'SD',\n",
    "'Tennessee': 'TN', 'Texas': 'TX', 'Utah': 'UT', 'Vermont': 'VT', 'Virginia': 'VA', 'Washington': 'WA',\n",
    "'West Virginia': 'WV', 'Wisconsin': 'WI', 'Wyoming': 'WY'}"
   ]
  },
  {
   "cell_type": "code",
   "execution_count": 9,
   "metadata": {},
   "outputs": [
    {
     "name": "stderr",
     "output_type": "stream",
     "text": [
      "C:\\Users\\alexc\\Anaconda3\\lib\\site-packages\\pandas\\core\\generic.py:5208: SettingWithCopyWarning:\n",
      "\n",
      "\n",
      "A value is trying to be set on a copy of a slice from a DataFrame.\n",
      "Try using .loc[row_indexer,col_indexer] = value instead\n",
      "\n",
      "See the caveats in the documentation: http://pandas.pydata.org/pandas-docs/stable/user_guide/indexing.html#returning-a-view-versus-a-copy\n",
      "\n"
     ]
    }
   ],
   "source": [
    "full_df_copy.state = full_df_copy.state.map(us_state_abbrev).fillna(full_df_copy.state)\n",
    "full_final = pd.merge(full_df_copy,fips[['fips','county','state']],how='left',left_on=['state','county'],right_on=['state','county'])\n",
    "final_by_state = full_final[(full_final.state != 'Total') & (full_final.county == 'Total')]\n",
    "final_by_state.state = final_by_state.replace({'District of Columbia':'DC'})\n",
    "full_final = full_final[(full_final.state != 'Total') & (full_final.county != 'Total')]"
   ]
  },
  {
   "cell_type": "code",
   "execution_count": 10,
   "metadata": {},
   "outputs": [
    {
     "data": {
      "text/html": [
       "<div>\n",
       "<style scoped>\n",
       "    .dataframe tbody tr th:only-of-type {\n",
       "        vertical-align: middle;\n",
       "    }\n",
       "\n",
       "    .dataframe tbody tr th {\n",
       "        vertical-align: top;\n",
       "    }\n",
       "\n",
       "    .dataframe thead th {\n",
       "        text-align: right;\n",
       "    }\n",
       "</style>\n",
       "<table border=\"1\" class=\"dataframe\">\n",
       "  <thead>\n",
       "    <tr style=\"text-align: right;\">\n",
       "      <th></th>\n",
       "      <th>state</th>\n",
       "      <th>county</th>\n",
       "      <th>date</th>\n",
       "      <th>retail</th>\n",
       "      <th>grocery and pharmacy</th>\n",
       "      <th>parks</th>\n",
       "      <th>transit stations</th>\n",
       "      <th>workplaces</th>\n",
       "      <th>residential</th>\n",
       "      <th>fips</th>\n",
       "    </tr>\n",
       "  </thead>\n",
       "  <tbody>\n",
       "  </tbody>\n",
       "</table>\n",
       "</div>"
      ],
      "text/plain": [
       "Empty DataFrame\n",
       "Columns: [state, county, date, retail, grocery and pharmacy, parks, transit stations, workplaces, residential, fips]\n",
       "Index: []"
      ]
     },
     "execution_count": 10,
     "metadata": {},
     "output_type": "execute_result"
    }
   ],
   "source": [
    "full_final[full_final.fips.isna()]"
   ]
  },
  {
   "cell_type": "code",
   "execution_count": 11,
   "metadata": {},
   "outputs": [
    {
     "data": {
      "text/html": [
       "<div>\n",
       "<style scoped>\n",
       "    .dataframe tbody tr th:only-of-type {\n",
       "        vertical-align: middle;\n",
       "    }\n",
       "\n",
       "    .dataframe tbody tr th {\n",
       "        vertical-align: top;\n",
       "    }\n",
       "\n",
       "    .dataframe thead th {\n",
       "        text-align: right;\n",
       "    }\n",
       "</style>\n",
       "<table border=\"1\" class=\"dataframe\">\n",
       "  <thead>\n",
       "    <tr style=\"text-align: right;\">\n",
       "      <th></th>\n",
       "      <th>state</th>\n",
       "      <th>county</th>\n",
       "      <th>date</th>\n",
       "      <th>retail</th>\n",
       "      <th>grocery and pharmacy</th>\n",
       "      <th>parks</th>\n",
       "      <th>transit stations</th>\n",
       "      <th>workplaces</th>\n",
       "      <th>residential</th>\n",
       "      <th>fips</th>\n",
       "      <th>text</th>\n",
       "    </tr>\n",
       "  </thead>\n",
       "  <tbody>\n",
       "    <tr>\n",
       "      <td>202</td>\n",
       "      <td>AL</td>\n",
       "      <td>Autauga</td>\n",
       "      <td>2020-02-15</td>\n",
       "      <td>5.0</td>\n",
       "      <td>7.0</td>\n",
       "      <td>NaN</td>\n",
       "      <td>NaN</td>\n",
       "      <td>-4.0</td>\n",
       "      <td>NaN</td>\n",
       "      <td>01001</td>\n",
       "      <td>Autauga, AL</td>\n",
       "    </tr>\n",
       "    <tr>\n",
       "      <td>203</td>\n",
       "      <td>AL</td>\n",
       "      <td>Autauga</td>\n",
       "      <td>2020-02-16</td>\n",
       "      <td>0.0</td>\n",
       "      <td>1.0</td>\n",
       "      <td>-23.0</td>\n",
       "      <td>NaN</td>\n",
       "      <td>-4.0</td>\n",
       "      <td>NaN</td>\n",
       "      <td>01001</td>\n",
       "      <td>Autauga, AL</td>\n",
       "    </tr>\n",
       "    <tr>\n",
       "      <td>204</td>\n",
       "      <td>AL</td>\n",
       "      <td>Autauga</td>\n",
       "      <td>2020-02-17</td>\n",
       "      <td>8.0</td>\n",
       "      <td>0.0</td>\n",
       "      <td>NaN</td>\n",
       "      <td>NaN</td>\n",
       "      <td>-27.0</td>\n",
       "      <td>5.0</td>\n",
       "      <td>01001</td>\n",
       "      <td>Autauga, AL</td>\n",
       "    </tr>\n",
       "    <tr>\n",
       "      <td>205</td>\n",
       "      <td>AL</td>\n",
       "      <td>Autauga</td>\n",
       "      <td>2020-02-18</td>\n",
       "      <td>-2.0</td>\n",
       "      <td>0.0</td>\n",
       "      <td>NaN</td>\n",
       "      <td>NaN</td>\n",
       "      <td>2.0</td>\n",
       "      <td>0.0</td>\n",
       "      <td>01001</td>\n",
       "      <td>Autauga, AL</td>\n",
       "    </tr>\n",
       "    <tr>\n",
       "      <td>206</td>\n",
       "      <td>AL</td>\n",
       "      <td>Autauga</td>\n",
       "      <td>2020-02-19</td>\n",
       "      <td>-2.0</td>\n",
       "      <td>0.0</td>\n",
       "      <td>NaN</td>\n",
       "      <td>NaN</td>\n",
       "      <td>2.0</td>\n",
       "      <td>0.0</td>\n",
       "      <td>01001</td>\n",
       "      <td>Autauga, AL</td>\n",
       "    </tr>\n",
       "  </tbody>\n",
       "</table>\n",
       "</div>"
      ],
      "text/plain": [
       "    state   county        date  retail  grocery and pharmacy  parks  \\\n",
       "202    AL  Autauga  2020-02-15     5.0                   7.0    NaN   \n",
       "203    AL  Autauga  2020-02-16     0.0                   1.0  -23.0   \n",
       "204    AL  Autauga  2020-02-17     8.0                   0.0    NaN   \n",
       "205    AL  Autauga  2020-02-18    -2.0                   0.0    NaN   \n",
       "206    AL  Autauga  2020-02-19    -2.0                   0.0    NaN   \n",
       "\n",
       "     transit stations  workplaces  residential   fips         text  \n",
       "202               NaN        -4.0          NaN  01001  Autauga, AL  \n",
       "203               NaN        -4.0          NaN  01001  Autauga, AL  \n",
       "204               NaN       -27.0          5.0  01001  Autauga, AL  \n",
       "205               NaN         2.0          0.0  01001  Autauga, AL  \n",
       "206               NaN         2.0          0.0  01001  Autauga, AL  "
      ]
     },
     "execution_count": 11,
     "metadata": {},
     "output_type": "execute_result"
    }
   ],
   "source": [
    "full_final['text'] = full_final.county + ', ' + full_final.state\n",
    "full_final.head()"
   ]
  },
  {
   "cell_type": "markdown",
   "metadata": {},
   "source": [
    "## ACS Data Import and Clean"
   ]
  },
  {
   "cell_type": "code",
   "execution_count": 12,
   "metadata": {},
   "outputs": [
    {
     "name": "stderr",
     "output_type": "stream",
     "text": [
      "C:\\Users\\alexc\\Anaconda3\\lib\\site-packages\\IPython\\core\\interactiveshell.py:3058: DtypeWarning:\n",
      "\n",
      "Columns (67,95,119,148,149,150,151,158,159,166,167,176,177,180,181,184,185,188,189,192,193,212,213,216,217,220,221,224,225,228,229,231,310,311,312,314,315,316,317,318,319,320,321,322,323,324,325,326,327,328,329,330,331,332,333,334,335,336,337,338,339,340,341,376,377,380,381,392,393,396,397,404,405,408,409,416,417,420,421,424,425,428,429,432,433,436,437) have mixed types. Specify dtype option on import or set low_memory=False.\n",
      "\n"
     ]
    }
   ],
   "source": [
    "acs = pd.read_csv(r'data/2018_ACS.csv')\n",
    "state_acs = pd.read_csv(r'data/ACS_2018_states.csv')\n",
    "acs.drop(columns=['id'],inplace=True), state_acs.drop(columns=['id'], inplace=True);"
   ]
  },
  {
   "cell_type": "code",
   "execution_count": 13,
   "metadata": {},
   "outputs": [],
   "source": [
    "state_acs.rename(columns = {'Geographic Area Name':'state'},inplace=True)"
   ]
  },
  {
   "cell_type": "code",
   "execution_count": 14,
   "metadata": {
    "scrolled": true
   },
   "outputs": [],
   "source": [
    "no_moe = acs.columns.str.contains('Margin')\n",
    "cols = acs.columns.tolist()\n",
    "acs = acs[[cols[x] for x in range(len(cols)) if not no_moe[x]]]\n",
    "\n",
    "no_moe = state_acs.columns.str.contains('Margin')\n",
    "cols = state_acs.columns.tolist()\n",
    "state_acs = state_acs[[cols[x] for x in range(len(cols)) if not no_moe[x]]]"
   ]
  },
  {
   "cell_type": "code",
   "execution_count": 15,
   "metadata": {},
   "outputs": [],
   "source": [
    "county_state = acs['Geographic Area Name'].tolist()\n",
    "county, state = [],[]\n",
    "for i in county_state:\n",
    "    pattern = '(.*), (.*)'\n",
    "    a = re.search(pattern, i)\n",
    "    county.append(a.group(1)),state.append(a.group(2))"
   ]
  },
  {
   "cell_type": "code",
   "execution_count": 16,
   "metadata": {},
   "outputs": [],
   "source": [
    "for c in range(len(county)):\n",
    "    county[c] = county[c].replace(' County','')\n",
    "    county[c] = county[c].replace('.','')\n",
    "    county[c] = county[c].replace(' Parish','')\n",
    "    county[c] = county[c].replace(' Borough','')\n",
    "    county[c] = county[c].replace('city','City')"
   ]
  },
  {
   "cell_type": "code",
   "execution_count": 17,
   "metadata": {},
   "outputs": [],
   "source": [
    "acs['county'] = county\n",
    "acs['state']= state\n",
    "acs.state = acs.state.map(us_state_abbrev).fillna(acs.state)\n",
    "acs_fips = pd.merge(acs,fips[['fips','county','state']],how='left',left_on=['state','county'],right_on=['state','county'])\n",
    "acs_fips['text'] = acs_fips.county +', ' +acs_fips.state"
   ]
  },
  {
   "cell_type": "markdown",
   "metadata": {},
   "source": [
    "## Means of ACS Data by State "
   ]
  },
  {
   "cell_type": "code",
   "execution_count": 18,
   "metadata": {},
   "outputs": [],
   "source": [
    "means = acs_fips.mean(numeric_only=True)\n",
    "means_df = means.to_frame().T\n",
    "means_df['state'] = ['USA']"
   ]
  },
  {
   "cell_type": "code",
   "execution_count": 19,
   "metadata": {},
   "outputs": [
    {
     "data": {
      "text/html": [
       "<div>\n",
       "<style scoped>\n",
       "    .dataframe tbody tr th:only-of-type {\n",
       "        vertical-align: middle;\n",
       "    }\n",
       "\n",
       "    .dataframe tbody tr th {\n",
       "        vertical-align: top;\n",
       "    }\n",
       "\n",
       "    .dataframe thead th {\n",
       "        text-align: right;\n",
       "    }\n",
       "</style>\n",
       "<table border=\"1\" class=\"dataframe\">\n",
       "  <thead>\n",
       "    <tr style=\"text-align: right;\">\n",
       "      <th></th>\n",
       "      <th>Estimate!!HOUSEHOLDS BY TYPE!!Total households</th>\n",
       "      <th>Percent Estimate!!HOUSEHOLDS BY TYPE!!Total households</th>\n",
       "      <th>Estimate!!HOUSEHOLDS BY TYPE!!Total households!!Family households (families)</th>\n",
       "      <th>Percent Estimate!!HOUSEHOLDS BY TYPE!!Total households!!Family households (families)</th>\n",
       "      <th>Estimate!!HOUSEHOLDS BY TYPE!!Total households!!Family households (families)!!With own children of the householder under 18 years</th>\n",
       "      <th>Percent Estimate!!HOUSEHOLDS BY TYPE!!Total households!!Family households (families)!!With own children of the householder under 18 years</th>\n",
       "      <th>Estimate!!HOUSEHOLDS BY TYPE!!Total households!!Family households (families)!!Married-couple family</th>\n",
       "      <th>Percent Estimate!!HOUSEHOLDS BY TYPE!!Total households!!Family households (families)!!Married-couple family</th>\n",
       "      <th>Estimate!!HOUSEHOLDS BY TYPE!!Total households!!Family households (families)!!Married-couple family!!With own children of the householder under 18 years</th>\n",
       "      <th>Percent Estimate!!HOUSEHOLDS BY TYPE!!Total households!!Family households (families)!!Married-couple family!!With own children of the householder under 18 years</th>\n",
       "      <th>...</th>\n",
       "      <th>Percent Estimate!!ANCESTRY!!Total population!!Welsh</th>\n",
       "      <th>Estimate!!ANCESTRY!!Total population!!West Indian (excluding Hispanic origin groups)</th>\n",
       "      <th>Percent Estimate!!ANCESTRY!!Total population!!West Indian (excluding Hispanic origin groups)</th>\n",
       "      <th>Estimate!!COMPUTERS AND INTERNET USE!!Total households</th>\n",
       "      <th>Percent Estimate!!COMPUTERS AND INTERNET USE!!Total households</th>\n",
       "      <th>Estimate!!COMPUTERS AND INTERNET USE!!Total households!!With a computer</th>\n",
       "      <th>Percent Estimate!!COMPUTERS AND INTERNET USE!!Total households!!With a computer</th>\n",
       "      <th>Estimate!!COMPUTERS AND INTERNET USE!!Total households!!With a broadband Internet subscription</th>\n",
       "      <th>Percent Estimate!!COMPUTERS AND INTERNET USE!!Total households!!With a broadband Internet subscription</th>\n",
       "      <th>state</th>\n",
       "    </tr>\n",
       "  </thead>\n",
       "  <tbody>\n",
       "    <tr>\n",
       "      <td>0</td>\n",
       "      <td>38106.342457</td>\n",
       "      <td>38106.342457</td>\n",
       "      <td>25046.818269</td>\n",
       "      <td>66.555602</td>\n",
       "      <td>10641.342775</td>\n",
       "      <td>25.926862</td>\n",
       "      <td>18401.320178</td>\n",
       "      <td>50.825748</td>\n",
       "      <td>7237.563972</td>\n",
       "      <td>17.604042</td>\n",
       "      <td>...</td>\n",
       "      <td>0.591470</td>\n",
       "      <td>937.907384</td>\n",
       "      <td>0.235201</td>\n",
       "      <td>38106.342457</td>\n",
       "      <td>38106.342457</td>\n",
       "      <td>33826.422661</td>\n",
       "      <td>83.415691</td>\n",
       "      <td>30637.661044</td>\n",
       "      <td>72.690866</td>\n",
       "      <td>USA</td>\n",
       "    </tr>\n",
       "    <tr>\n",
       "      <td>1</td>\n",
       "      <td>27765.208955</td>\n",
       "      <td>27765.208955</td>\n",
       "      <td>18356.791045</td>\n",
       "      <td>66.150746</td>\n",
       "      <td>7273.925373</td>\n",
       "      <td>24.405970</td>\n",
       "      <td>13184.865672</td>\n",
       "      <td>47.146269</td>\n",
       "      <td>4711.716418</td>\n",
       "      <td>15.417910</td>\n",
       "      <td>...</td>\n",
       "      <td>0.320896</td>\n",
       "      <td>157.925373</td>\n",
       "      <td>0.156716</td>\n",
       "      <td>27765.208955</td>\n",
       "      <td>27765.208955</td>\n",
       "      <td>23153.671642</td>\n",
       "      <td>77.055224</td>\n",
       "      <td>20362.955224</td>\n",
       "      <td>65.762687</td>\n",
       "      <td>AL</td>\n",
       "    </tr>\n",
       "    <tr>\n",
       "      <td>2</td>\n",
       "      <td>8740.068966</td>\n",
       "      <td>8740.068966</td>\n",
       "      <td>5780.448276</td>\n",
       "      <td>65.175862</td>\n",
       "      <td>2744.689655</td>\n",
       "      <td>30.231034</td>\n",
       "      <td>4339.551724</td>\n",
       "      <td>45.075862</td>\n",
       "      <td>1907.000000</td>\n",
       "      <td>18.996552</td>\n",
       "      <td>...</td>\n",
       "      <td>0.724138</td>\n",
       "      <td>51.862069</td>\n",
       "      <td>0.124138</td>\n",
       "      <td>8740.068966</td>\n",
       "      <td>8740.068966</td>\n",
       "      <td>8158.551724</td>\n",
       "      <td>88.741379</td>\n",
       "      <td>7369.034483</td>\n",
       "      <td>75.655172</td>\n",
       "      <td>AK</td>\n",
       "    </tr>\n",
       "    <tr>\n",
       "      <td>3</td>\n",
       "      <td>168286.666667</td>\n",
       "      <td>168286.666667</td>\n",
       "      <td>109875.066667</td>\n",
       "      <td>67.013333</td>\n",
       "      <td>45582.866667</td>\n",
       "      <td>25.146667</td>\n",
       "      <td>80008.866667</td>\n",
       "      <td>48.366667</td>\n",
       "      <td>30006.266667</td>\n",
       "      <td>15.966667</td>\n",
       "      <td>...</td>\n",
       "      <td>0.553333</td>\n",
       "      <td>741.866667</td>\n",
       "      <td>0.120000</td>\n",
       "      <td>168286.666667</td>\n",
       "      <td>168286.666667</td>\n",
       "      <td>151270.866667</td>\n",
       "      <td>83.386667</td>\n",
       "      <td>137626.066667</td>\n",
       "      <td>71.726667</td>\n",
       "      <td>AZ</td>\n",
       "    </tr>\n",
       "    <tr>\n",
       "      <td>4</td>\n",
       "      <td>15362.333333</td>\n",
       "      <td>15362.333333</td>\n",
       "      <td>10197.546667</td>\n",
       "      <td>67.053333</td>\n",
       "      <td>4243.493333</td>\n",
       "      <td>25.446667</td>\n",
       "      <td>7451.560000</td>\n",
       "      <td>49.174667</td>\n",
       "      <td>2747.920000</td>\n",
       "      <td>16.205333</td>\n",
       "      <td>...</td>\n",
       "      <td>0.388000</td>\n",
       "      <td>47.613333</td>\n",
       "      <td>0.121333</td>\n",
       "      <td>15362.333333</td>\n",
       "      <td>15362.333333</td>\n",
       "      <td>12925.760000</td>\n",
       "      <td>79.258667</td>\n",
       "      <td>10728.466667</td>\n",
       "      <td>64.164000</td>\n",
       "      <td>AR</td>\n",
       "    </tr>\n",
       "  </tbody>\n",
       "</table>\n",
       "<p>5 rows × 254 columns</p>\n",
       "</div>"
      ],
      "text/plain": [
       "   Estimate!!HOUSEHOLDS BY TYPE!!Total households  \\\n",
       "0                                    38106.342457   \n",
       "1                                    27765.208955   \n",
       "2                                     8740.068966   \n",
       "3                                   168286.666667   \n",
       "4                                    15362.333333   \n",
       "\n",
       "   Percent Estimate!!HOUSEHOLDS BY TYPE!!Total households  \\\n",
       "0                                       38106.342457        \n",
       "1                                       27765.208955        \n",
       "2                                        8740.068966        \n",
       "3                                      168286.666667        \n",
       "4                                       15362.333333        \n",
       "\n",
       "   Estimate!!HOUSEHOLDS BY TYPE!!Total households!!Family households (families)  \\\n",
       "0                                       25046.818269                              \n",
       "1                                       18356.791045                              \n",
       "2                                        5780.448276                              \n",
       "3                                      109875.066667                              \n",
       "4                                       10197.546667                              \n",
       "\n",
       "   Percent Estimate!!HOUSEHOLDS BY TYPE!!Total households!!Family households (families)  \\\n",
       "0                                          66.555602                                      \n",
       "1                                          66.150746                                      \n",
       "2                                          65.175862                                      \n",
       "3                                          67.013333                                      \n",
       "4                                          67.053333                                      \n",
       "\n",
       "   Estimate!!HOUSEHOLDS BY TYPE!!Total households!!Family households (families)!!With own children of the householder under 18 years  \\\n",
       "0                                       10641.342775                                                                                   \n",
       "1                                        7273.925373                                                                                   \n",
       "2                                        2744.689655                                                                                   \n",
       "3                                       45582.866667                                                                                   \n",
       "4                                        4243.493333                                                                                   \n",
       "\n",
       "   Percent Estimate!!HOUSEHOLDS BY TYPE!!Total households!!Family households (families)!!With own children of the householder under 18 years  \\\n",
       "0                                          25.926862                                                                                           \n",
       "1                                          24.405970                                                                                           \n",
       "2                                          30.231034                                                                                           \n",
       "3                                          25.146667                                                                                           \n",
       "4                                          25.446667                                                                                           \n",
       "\n",
       "   Estimate!!HOUSEHOLDS BY TYPE!!Total households!!Family households (families)!!Married-couple family  \\\n",
       "0                                       18401.320178                                                     \n",
       "1                                       13184.865672                                                     \n",
       "2                                        4339.551724                                                     \n",
       "3                                       80008.866667                                                     \n",
       "4                                        7451.560000                                                     \n",
       "\n",
       "   Percent Estimate!!HOUSEHOLDS BY TYPE!!Total households!!Family households (families)!!Married-couple family  \\\n",
       "0                                          50.825748                                                             \n",
       "1                                          47.146269                                                             \n",
       "2                                          45.075862                                                             \n",
       "3                                          48.366667                                                             \n",
       "4                                          49.174667                                                             \n",
       "\n",
       "   Estimate!!HOUSEHOLDS BY TYPE!!Total households!!Family households (families)!!Married-couple family!!With own children of the householder under 18 years  \\\n",
       "0                                        7237.563972                                                                                                          \n",
       "1                                        4711.716418                                                                                                          \n",
       "2                                        1907.000000                                                                                                          \n",
       "3                                       30006.266667                                                                                                          \n",
       "4                                        2747.920000                                                                                                          \n",
       "\n",
       "   Percent Estimate!!HOUSEHOLDS BY TYPE!!Total households!!Family households (families)!!Married-couple family!!With own children of the householder under 18 years  \\\n",
       "0                                          17.604042                                                                                                                  \n",
       "1                                          15.417910                                                                                                                  \n",
       "2                                          18.996552                                                                                                                  \n",
       "3                                          15.966667                                                                                                                  \n",
       "4                                          16.205333                                                                                                                  \n",
       "\n",
       "   ...  Percent Estimate!!ANCESTRY!!Total population!!Welsh  \\\n",
       "0  ...                                           0.591470     \n",
       "1  ...                                           0.320896     \n",
       "2  ...                                           0.724138     \n",
       "3  ...                                           0.553333     \n",
       "4  ...                                           0.388000     \n",
       "\n",
       "   Estimate!!ANCESTRY!!Total population!!West Indian (excluding Hispanic origin groups)  \\\n",
       "0                                         937.907384                                      \n",
       "1                                         157.925373                                      \n",
       "2                                          51.862069                                      \n",
       "3                                         741.866667                                      \n",
       "4                                          47.613333                                      \n",
       "\n",
       "   Percent Estimate!!ANCESTRY!!Total population!!West Indian (excluding Hispanic origin groups)  \\\n",
       "0                                           0.235201                                              \n",
       "1                                           0.156716                                              \n",
       "2                                           0.124138                                              \n",
       "3                                           0.120000                                              \n",
       "4                                           0.121333                                              \n",
       "\n",
       "   Estimate!!COMPUTERS AND INTERNET USE!!Total households  \\\n",
       "0                                       38106.342457        \n",
       "1                                       27765.208955        \n",
       "2                                        8740.068966        \n",
       "3                                      168286.666667        \n",
       "4                                       15362.333333        \n",
       "\n",
       "   Percent Estimate!!COMPUTERS AND INTERNET USE!!Total households  \\\n",
       "0                                       38106.342457                \n",
       "1                                       27765.208955                \n",
       "2                                        8740.068966                \n",
       "3                                      168286.666667                \n",
       "4                                       15362.333333                \n",
       "\n",
       "   Estimate!!COMPUTERS AND INTERNET USE!!Total households!!With a computer  \\\n",
       "0                                       33826.422661                         \n",
       "1                                       23153.671642                         \n",
       "2                                        8158.551724                         \n",
       "3                                      151270.866667                         \n",
       "4                                       12925.760000                         \n",
       "\n",
       "   Percent Estimate!!COMPUTERS AND INTERNET USE!!Total households!!With a computer  \\\n",
       "0                                          83.415691                                 \n",
       "1                                          77.055224                                 \n",
       "2                                          88.741379                                 \n",
       "3                                          83.386667                                 \n",
       "4                                          79.258667                                 \n",
       "\n",
       "   Estimate!!COMPUTERS AND INTERNET USE!!Total households!!With a broadband Internet subscription  \\\n",
       "0                                       30637.661044                                                \n",
       "1                                       20362.955224                                                \n",
       "2                                        7369.034483                                                \n",
       "3                                      137626.066667                                                \n",
       "4                                       10728.466667                                                \n",
       "\n",
       "   Percent Estimate!!COMPUTERS AND INTERNET USE!!Total households!!With a broadband Internet subscription  \\\n",
       "0                                          72.690866                                                        \n",
       "1                                          65.762687                                                        \n",
       "2                                          75.655172                                                        \n",
       "3                                          71.726667                                                        \n",
       "4                                          64.164000                                                        \n",
       "\n",
       "   state  \n",
       "0    USA  \n",
       "1     AL  \n",
       "2     AK  \n",
       "3     AZ  \n",
       "4     AR  \n",
       "\n",
       "[5 rows x 254 columns]"
      ]
     },
     "execution_count": 19,
     "metadata": {},
     "output_type": "execute_result"
    }
   ],
   "source": [
    "for state in acs_fips.state.unique():\n",
    "    state_df = acs_fips[acs_fips.state == state].mean(numeric_only=True).to_frame().T\n",
    "    state_df['state'] = state\n",
    "    means_df = means_df.append(state_df,ignore_index=True)\n",
    "means_df.head()"
   ]
  },
  {
   "cell_type": "code",
   "execution_count": 20,
   "metadata": {},
   "outputs": [],
   "source": [
    "pop_col = 'Estimate!!RELATIONSHIP!!Population in households'"
   ]
  },
  {
   "cell_type": "code",
   "execution_count": 21,
   "metadata": {},
   "outputs": [
    {
     "name": "stderr",
     "output_type": "stream",
     "text": [
      "C:\\Users\\alexc\\Anaconda3\\lib\\site-packages\\ipykernel_launcher.py:2: SettingWithCopyWarning:\n",
      "\n",
      "\n",
      "A value is trying to be set on a copy of a slice from a DataFrame.\n",
      "Try using .loc[row_indexer,col_indexer] = value instead\n",
      "\n",
      "See the caveats in the documentation: http://pandas.pydata.org/pandas-docs/stable/user_guide/indexing.html#returning-a-view-versus-a-copy\n",
      "\n",
      "C:\\Users\\alexc\\Anaconda3\\lib\\site-packages\\pandas\\core\\frame.py:4223: SettingWithCopyWarning:\n",
      "\n",
      "\n",
      "A value is trying to be set on a copy of a slice from a DataFrame\n",
      "\n",
      "See the caveats in the documentation: http://pandas.pydata.org/pandas-docs/stable/user_guide/indexing.html#returning-a-view-versus-a-copy\n",
      "\n"
     ]
    },
    {
     "data": {
      "text/html": [
       "<div>\n",
       "<style scoped>\n",
       "    .dataframe tbody tr th:only-of-type {\n",
       "        vertical-align: middle;\n",
       "    }\n",
       "\n",
       "    .dataframe tbody tr th {\n",
       "        vertical-align: top;\n",
       "    }\n",
       "\n",
       "    .dataframe thead th {\n",
       "        text-align: right;\n",
       "    }\n",
       "</style>\n",
       "<table border=\"1\" class=\"dataframe\">\n",
       "  <thead>\n",
       "    <tr style=\"text-align: right;\">\n",
       "      <th></th>\n",
       "      <th>state</th>\n",
       "      <th>population</th>\n",
       "    </tr>\n",
       "  </thead>\n",
       "  <tbody>\n",
       "    <tr>\n",
       "      <td>0</td>\n",
       "      <td>IL</td>\n",
       "      <td>12444301.0</td>\n",
       "    </tr>\n",
       "    <tr>\n",
       "      <td>1</td>\n",
       "      <td>IA</td>\n",
       "      <td>3057213.0</td>\n",
       "    </tr>\n",
       "    <tr>\n",
       "      <td>2</td>\n",
       "      <td>MO</td>\n",
       "      <td>5952011.0</td>\n",
       "    </tr>\n",
       "    <tr>\n",
       "      <td>3</td>\n",
       "      <td>NV</td>\n",
       "      <td>2996777.0</td>\n",
       "    </tr>\n",
       "    <tr>\n",
       "      <td>4</td>\n",
       "      <td>PA</td>\n",
       "      <td>12385066.0</td>\n",
       "    </tr>\n",
       "  </tbody>\n",
       "</table>\n",
       "</div>"
      ],
      "text/plain": [
       "  state  population\n",
       "0    IL  12444301.0\n",
       "1    IA   3057213.0\n",
       "2    MO   5952011.0\n",
       "3    NV   2996777.0\n",
       "4    PA  12385066.0"
      ]
     },
     "execution_count": 21,
     "metadata": {},
     "output_type": "execute_result"
    }
   ],
   "source": [
    "state_pop = state_acs[['state',pop_col]]\n",
    "state_pop['state'] = state_pop.state.map(us_state_abbrev).fillna(state_pop.state)\n",
    "state_pop.rename(columns={'Estimate!!RELATIONSHIP!!Population in households':'population'},inplace=True)\n",
    "state_pop.state = state_pop.state.replace({'District of Columbia':'DC'})\n",
    "state_pop.head()"
   ]
  },
  {
   "cell_type": "code",
   "execution_count": 24,
   "metadata": {},
   "outputs": [],
   "source": [
    "test_state = final_by_state.copy()\n",
    "cases_by_state = pd.DataFrame(columns=['cases','state'])\n",
    "for state in covid.State.unique():\n",
    "    state_cases = covid[covid.State == state][covid.columns[4:]].sum().to_frame().rename(columns={0:'cases'})\n",
    "    state_cases['state'] = [state for _ in range(len(state_cases))]\n",
    "    cases_by_state = cases_by_state.append(state_cases)\n",
    "cases_by_state['date'] = cases_by_state.index"
   ]
  },
  {
   "cell_type": "code",
   "execution_count": 25,
   "metadata": {},
   "outputs": [],
   "source": [
    "mob_case_state = pd.merge(test_state,cases_by_state,left_on=['date','state'],right_on=['date','state'])"
   ]
  },
  {
   "cell_type": "code",
   "execution_count": 26,
   "metadata": {},
   "outputs": [],
   "source": [
    "usa_regions = {\n",
    "    'WA' : 'North West','OR' : 'North West','ID' : 'North West','MT' : 'North West','WY' : 'North West',\n",
    "    'CA' : 'West','NV' : 'West','AK' : 'West','HI' : 'West',\n",
    "    'UT' : 'South West','NM' : 'South West','CO' : 'South West','AZ' : 'South West','TX' : 'South West','OK' : 'South West',\n",
    "    'ND' : 'Mid-West','SD' : 'Mid-West','NE' : 'Mid-West','KS' : 'Mid-West','WI' : 'Mid-West','IA' : 'Mid-West','MO' : 'Mid-West',\n",
    "    'MI' : 'Mid-West','IL' : 'Mid-West','IN' : 'Mid-West','KY' : 'Mid-West','OH' : 'Mid-West','MN' : 'Mid-West',\n",
    "    'AR' : 'South East','LA' : 'South East','AL' : 'South East','MS' : 'South East','TN':'South East','GA':'South East','FL':'South East',\n",
    "    'SC' : 'South East','NC' : 'South East',\n",
    "    'VA' : 'Mid-Atlantic','WV' : 'Mid-Atlantic','PA' : 'Mid-Atlantic','MD' : 'Mid-Atlantic','DE' : 'Mid-Atlantic','NJ' : 'Mid-Atlantic',\n",
    "    'NY' : 'Mid-Atlantic','DC' : 'Mid-Atlantic',\n",
    "    'CT' : 'North East','RI' : 'North East','VT' : 'North East','NH' : 'North East','MA' : 'North East','ME' : 'North East'\n",
    "    \n",
    "}"
   ]
  },
  {
   "cell_type": "code",
   "execution_count": 66,
   "metadata": {},
   "outputs": [],
   "source": [
    "mob_case_state['region'] = mob_case_state.state.map(usa_regions)\n",
    "cases_by_state['region'] = cases_by_state.state.map(usa_regions)"
   ]
  },
  {
   "cell_type": "code",
   "execution_count": 70,
   "metadata": {},
   "outputs": [
    {
     "data": {
      "text/html": [
       "<div>\n",
       "<style scoped>\n",
       "    .dataframe tbody tr th:only-of-type {\n",
       "        vertical-align: middle;\n",
       "    }\n",
       "\n",
       "    .dataframe tbody tr th {\n",
       "        vertical-align: top;\n",
       "    }\n",
       "\n",
       "    .dataframe thead th {\n",
       "        text-align: right;\n",
       "    }\n",
       "</style>\n",
       "<table border=\"1\" class=\"dataframe\">\n",
       "  <thead>\n",
       "    <tr style=\"text-align: right;\">\n",
       "      <th></th>\n",
       "      <th>countyFIPS</th>\n",
       "      <th>County Name</th>\n",
       "      <th>State</th>\n",
       "      <th>stateFIPS</th>\n",
       "      <th>2020-01-22</th>\n",
       "      <th>2020-01-23</th>\n",
       "      <th>2020-01-24</th>\n",
       "      <th>2020-01-25</th>\n",
       "      <th>2020-01-26</th>\n",
       "      <th>2020-01-27</th>\n",
       "      <th>...</th>\n",
       "      <th>2020-06-04</th>\n",
       "      <th>2020-06-05</th>\n",
       "      <th>2020-06-06</th>\n",
       "      <th>2020-06-07</th>\n",
       "      <th>2020-06-08</th>\n",
       "      <th>2020-06-09</th>\n",
       "      <th>2020-06-10</th>\n",
       "      <th>2020-06-11</th>\n",
       "      <th>2020-06-12</th>\n",
       "      <th>2020-06-13</th>\n",
       "    </tr>\n",
       "  </thead>\n",
       "  <tbody>\n",
       "    <tr>\n",
       "      <td>0</td>\n",
       "      <td>0</td>\n",
       "      <td>Statewide Unallocated</td>\n",
       "      <td>AL</td>\n",
       "      <td>1</td>\n",
       "      <td>0</td>\n",
       "      <td>0</td>\n",
       "      <td>0</td>\n",
       "      <td>0</td>\n",
       "      <td>0</td>\n",
       "      <td>0</td>\n",
       "      <td>...</td>\n",
       "      <td>0</td>\n",
       "      <td>0</td>\n",
       "      <td>0</td>\n",
       "      <td>0</td>\n",
       "      <td>0</td>\n",
       "      <td>0</td>\n",
       "      <td>0</td>\n",
       "      <td>0</td>\n",
       "      <td>0</td>\n",
       "      <td>0</td>\n",
       "    </tr>\n",
       "    <tr>\n",
       "      <td>1</td>\n",
       "      <td>01001</td>\n",
       "      <td>Autauga County</td>\n",
       "      <td>AL</td>\n",
       "      <td>1</td>\n",
       "      <td>0</td>\n",
       "      <td>0</td>\n",
       "      <td>0</td>\n",
       "      <td>0</td>\n",
       "      <td>0</td>\n",
       "      <td>0</td>\n",
       "      <td>...</td>\n",
       "      <td>241</td>\n",
       "      <td>248</td>\n",
       "      <td>259</td>\n",
       "      <td>265</td>\n",
       "      <td>272</td>\n",
       "      <td>282</td>\n",
       "      <td>295</td>\n",
       "      <td>312</td>\n",
       "      <td>323</td>\n",
       "      <td>331</td>\n",
       "    </tr>\n",
       "    <tr>\n",
       "      <td>2</td>\n",
       "      <td>01003</td>\n",
       "      <td>Baldwin County</td>\n",
       "      <td>AL</td>\n",
       "      <td>1</td>\n",
       "      <td>0</td>\n",
       "      <td>0</td>\n",
       "      <td>0</td>\n",
       "      <td>0</td>\n",
       "      <td>0</td>\n",
       "      <td>0</td>\n",
       "      <td>...</td>\n",
       "      <td>293</td>\n",
       "      <td>296</td>\n",
       "      <td>304</td>\n",
       "      <td>313</td>\n",
       "      <td>320</td>\n",
       "      <td>325</td>\n",
       "      <td>331</td>\n",
       "      <td>343</td>\n",
       "      <td>353</td>\n",
       "      <td>361</td>\n",
       "    </tr>\n",
       "    <tr>\n",
       "      <td>3</td>\n",
       "      <td>01005</td>\n",
       "      <td>Barbour County</td>\n",
       "      <td>AL</td>\n",
       "      <td>1</td>\n",
       "      <td>0</td>\n",
       "      <td>0</td>\n",
       "      <td>0</td>\n",
       "      <td>0</td>\n",
       "      <td>0</td>\n",
       "      <td>0</td>\n",
       "      <td>...</td>\n",
       "      <td>177</td>\n",
       "      <td>183</td>\n",
       "      <td>190</td>\n",
       "      <td>193</td>\n",
       "      <td>197</td>\n",
       "      <td>199</td>\n",
       "      <td>208</td>\n",
       "      <td>214</td>\n",
       "      <td>221</td>\n",
       "      <td>226</td>\n",
       "    </tr>\n",
       "    <tr>\n",
       "      <td>4</td>\n",
       "      <td>01007</td>\n",
       "      <td>Bibb County</td>\n",
       "      <td>AL</td>\n",
       "      <td>1</td>\n",
       "      <td>0</td>\n",
       "      <td>0</td>\n",
       "      <td>0</td>\n",
       "      <td>0</td>\n",
       "      <td>0</td>\n",
       "      <td>0</td>\n",
       "      <td>...</td>\n",
       "      <td>76</td>\n",
       "      <td>76</td>\n",
       "      <td>77</td>\n",
       "      <td>77</td>\n",
       "      <td>79</td>\n",
       "      <td>85</td>\n",
       "      <td>89</td>\n",
       "      <td>93</td>\n",
       "      <td>97</td>\n",
       "      <td>100</td>\n",
       "    </tr>\n",
       "  </tbody>\n",
       "</table>\n",
       "<p>5 rows × 148 columns</p>\n",
       "</div>"
      ],
      "text/plain": [
       "  countyFIPS            County Name State  stateFIPS  2020-01-22  2020-01-23  \\\n",
       "0          0  Statewide Unallocated    AL          1           0           0   \n",
       "1      01001         Autauga County    AL          1           0           0   \n",
       "2      01003         Baldwin County    AL          1           0           0   \n",
       "3      01005         Barbour County    AL          1           0           0   \n",
       "4      01007            Bibb County    AL          1           0           0   \n",
       "\n",
       "   2020-01-24  2020-01-25  2020-01-26  2020-01-27  ...  2020-06-04  \\\n",
       "0           0           0           0           0  ...           0   \n",
       "1           0           0           0           0  ...         241   \n",
       "2           0           0           0           0  ...         293   \n",
       "3           0           0           0           0  ...         177   \n",
       "4           0           0           0           0  ...          76   \n",
       "\n",
       "   2020-06-05  2020-06-06  2020-06-07  2020-06-08  2020-06-09  2020-06-10  \\\n",
       "0           0           0           0           0           0           0   \n",
       "1         248         259         265         272         282         295   \n",
       "2         296         304         313         320         325         331   \n",
       "3         183         190         193         197         199         208   \n",
       "4          76          77          77          79          85          89   \n",
       "\n",
       "   2020-06-11  2020-06-12  2020-06-13  \n",
       "0           0           0           0  \n",
       "1         312         323         331  \n",
       "2         343         353         361  \n",
       "3         214         221         226  \n",
       "4          93          97         100  \n",
       "\n",
       "[5 rows x 148 columns]"
      ]
     },
     "execution_count": 70,
     "metadata": {},
     "output_type": "execute_result"
    }
   ],
   "source": [
    "covid.head()"
   ]
  },
  {
   "cell_type": "code",
   "execution_count": 32,
   "metadata": {},
   "outputs": [],
   "source": [
    "proportion = pd.DataFrame(columns=['cases'])\n",
    "for state in mob_case_state.state.unique():\n",
    "    prop = (mob_case_state[mob_case_state.state == state].cases / state_pop[state_pop.state == state].population.sum()).to_frame()\n",
    "    proportion = proportion.append(prop)"
   ]
  },
  {
   "cell_type": "code",
   "execution_count": 33,
   "metadata": {},
   "outputs": [],
   "source": [
    "mob_case_state['proportion'] = proportion.cases*100"
   ]
  },
  {
   "cell_type": "code",
   "execution_count": 34,
   "metadata": {},
   "outputs": [],
   "source": [
    "fig = px.scatter(mob_case_state[mob_case_state.date.isin(dates[55:])],\n",
    "          x='grocery and pharmacy', y='cases',animation_frame = 'date',animation_group = 'state',\n",
    "           color = 'region', hover_name = 'state',size=mob_case_state[mob_case_state.date.isin(dates[55:])].proportion.tolist(),\n",
    "          log_y = True, range_x = [-65,50],range_y = [1,400000])\n",
    "fig.layout.updatemenus[0].buttons[0].args[1][\"frame\"][\"duration\"] = 1500\n",
    "fig.update_layout(\n",
    "    #transition = {'duration' : 2000},\n",
    "    title_text = 'Comparison of Mobility to Grocery Stores and COVID-19 Cases by Geographic Region',\n",
    "    title_x = .5\n",
    "    )\n",
    "fig.write_html(r'html/mob_case.html')"
   ]
  },
  {
   "cell_type": "code",
   "execution_count": 117,
   "metadata": {},
   "outputs": [
    {
     "data": {
      "text/plain": [
       "False"
      ]
     },
     "execution_count": 117,
     "metadata": {},
     "output_type": "execute_result"
    }
   ],
   "source": [
    "state = 'CA'\n",
    "county = 'Alamda County'\n",
    "county in covid[covid.State == state]['County Name'].tolist()"
   ]
  },
  {
   "cell_type": "code",
   "execution_count": 119,
   "metadata": {},
   "outputs": [
    {
     "name": "stdout",
     "output_type": "stream",
     "text": [
      "State: CA\n",
      "County: Alameda County\n"
     ]
    },
    {
     "data": {
      "application/vnd.plotly.v1+json": {
       "config": {
        "plotlyServerURL": "https://plot.ly"
       },
       "data": [
        {
         "hovertemplate": "x=%{x}<br>y=%{y}<extra></extra>",
         "legendgroup": "",
         "marker": {
          "color": "#636efa",
          "symbol": "circle"
         },
         "mode": "markers",
         "name": "",
         "showlegend": false,
         "type": "scatter",
         "x": [
          "2020-03-13",
          "2020-03-14",
          "2020-03-15",
          "2020-03-16",
          "2020-03-17",
          "2020-03-18",
          "2020-03-19",
          "2020-03-20",
          "2020-03-21",
          "2020-03-22",
          "2020-03-23",
          "2020-03-24",
          "2020-03-25",
          "2020-03-26",
          "2020-03-27",
          "2020-03-28",
          "2020-03-29",
          "2020-03-30",
          "2020-03-31",
          "2020-04-01",
          "2020-04-02",
          "2020-04-03",
          "2020-04-04",
          "2020-04-05",
          "2020-04-06",
          "2020-04-07",
          "2020-04-08",
          "2020-04-09",
          "2020-04-10",
          "2020-04-11",
          "2020-04-12",
          "2020-04-13",
          "2020-04-14",
          "2020-04-15",
          "2020-04-16",
          "2020-04-17",
          "2020-04-18",
          "2020-04-19",
          "2020-04-20",
          "2020-04-21",
          "2020-04-22",
          "2020-04-23",
          "2020-04-24",
          "2020-04-25",
          "2020-04-26",
          "2020-04-27",
          "2020-04-28",
          "2020-04-29",
          "2020-04-30",
          "2020-05-01",
          "2020-05-02",
          "2020-05-03",
          "2020-05-04",
          "2020-05-05",
          "2020-05-06",
          "2020-05-07",
          "2020-05-08",
          "2020-05-09",
          "2020-05-10",
          "2020-05-11",
          "2020-05-12",
          "2020-05-13",
          "2020-05-14",
          "2020-05-15",
          "2020-05-16",
          "2020-05-17",
          "2020-05-18",
          "2020-05-19",
          "2020-05-20",
          "2020-05-21",
          "2020-05-22",
          "2020-05-23",
          "2020-05-24",
          "2020-05-25",
          "2020-05-26",
          "2020-05-27",
          "2020-05-28",
          "2020-05-29",
          "2020-05-30",
          "2020-05-31",
          "2020-06-01",
          "2020-06-02",
          "2020-06-03",
          "2020-06-04",
          "2020-06-05",
          "2020-06-06",
          "2020-06-07",
          "2020-06-08",
          "2020-06-09",
          "2020-06-10",
          "2020-06-11",
          "2020-06-12",
          "2020-06-13"
         ],
         "xaxis": "x",
         "y": [
          7,
          7,
          15,
          18,
          27,
          31,
          35,
          45,
          65,
          106,
          122,
          124,
          135,
          163,
          220,
          256,
          270,
          283,
          313,
          359,
          396,
          443,
          537,
          566,
          588,
          634,
          674,
          713,
          766,
          806,
          843,
          884,
          884,
          962,
          1007,
          1061,
          1114,
          1164,
          1191,
          1239,
          1280,
          1350,
          1401,
          1437,
          1468,
          1498,
          1533,
          1568,
          1603,
          1636,
          1705,
          1749,
          1776,
          1809,
          1863,
          1917,
          1961,
          2023,
          2064,
          2101,
          2133,
          2178,
          2234,
          2300,
          2351,
          2392,
          2457,
          2522,
          2560,
          2609,
          2708,
          2767,
          2847,
          2874,
          2986,
          3049,
          3097,
          3195,
          3289,
          3390,
          3470,
          3515,
          3548,
          3641,
          3725,
          3805,
          3874,
          3945,
          3985,
          4033,
          4119,
          4216,
          4216
         ],
         "yaxis": "y"
        }
       ],
       "layout": {
        "legend": {
         "tracegroupgap": 0
        },
        "margin": {
         "t": 60
        },
        "template": {
         "data": {
          "bar": [
           {
            "error_x": {
             "color": "#2a3f5f"
            },
            "error_y": {
             "color": "#2a3f5f"
            },
            "marker": {
             "line": {
              "color": "#E5ECF6",
              "width": 0.5
             }
            },
            "type": "bar"
           }
          ],
          "barpolar": [
           {
            "marker": {
             "line": {
              "color": "#E5ECF6",
              "width": 0.5
             }
            },
            "type": "barpolar"
           }
          ],
          "carpet": [
           {
            "aaxis": {
             "endlinecolor": "#2a3f5f",
             "gridcolor": "white",
             "linecolor": "white",
             "minorgridcolor": "white",
             "startlinecolor": "#2a3f5f"
            },
            "baxis": {
             "endlinecolor": "#2a3f5f",
             "gridcolor": "white",
             "linecolor": "white",
             "minorgridcolor": "white",
             "startlinecolor": "#2a3f5f"
            },
            "type": "carpet"
           }
          ],
          "choropleth": [
           {
            "colorbar": {
             "outlinewidth": 0,
             "ticks": ""
            },
            "type": "choropleth"
           }
          ],
          "contour": [
           {
            "colorbar": {
             "outlinewidth": 0,
             "ticks": ""
            },
            "colorscale": [
             [
              0,
              "#0d0887"
             ],
             [
              0.1111111111111111,
              "#46039f"
             ],
             [
              0.2222222222222222,
              "#7201a8"
             ],
             [
              0.3333333333333333,
              "#9c179e"
             ],
             [
              0.4444444444444444,
              "#bd3786"
             ],
             [
              0.5555555555555556,
              "#d8576b"
             ],
             [
              0.6666666666666666,
              "#ed7953"
             ],
             [
              0.7777777777777778,
              "#fb9f3a"
             ],
             [
              0.8888888888888888,
              "#fdca26"
             ],
             [
              1,
              "#f0f921"
             ]
            ],
            "type": "contour"
           }
          ],
          "contourcarpet": [
           {
            "colorbar": {
             "outlinewidth": 0,
             "ticks": ""
            },
            "type": "contourcarpet"
           }
          ],
          "heatmap": [
           {
            "colorbar": {
             "outlinewidth": 0,
             "ticks": ""
            },
            "colorscale": [
             [
              0,
              "#0d0887"
             ],
             [
              0.1111111111111111,
              "#46039f"
             ],
             [
              0.2222222222222222,
              "#7201a8"
             ],
             [
              0.3333333333333333,
              "#9c179e"
             ],
             [
              0.4444444444444444,
              "#bd3786"
             ],
             [
              0.5555555555555556,
              "#d8576b"
             ],
             [
              0.6666666666666666,
              "#ed7953"
             ],
             [
              0.7777777777777778,
              "#fb9f3a"
             ],
             [
              0.8888888888888888,
              "#fdca26"
             ],
             [
              1,
              "#f0f921"
             ]
            ],
            "type": "heatmap"
           }
          ],
          "heatmapgl": [
           {
            "colorbar": {
             "outlinewidth": 0,
             "ticks": ""
            },
            "colorscale": [
             [
              0,
              "#0d0887"
             ],
             [
              0.1111111111111111,
              "#46039f"
             ],
             [
              0.2222222222222222,
              "#7201a8"
             ],
             [
              0.3333333333333333,
              "#9c179e"
             ],
             [
              0.4444444444444444,
              "#bd3786"
             ],
             [
              0.5555555555555556,
              "#d8576b"
             ],
             [
              0.6666666666666666,
              "#ed7953"
             ],
             [
              0.7777777777777778,
              "#fb9f3a"
             ],
             [
              0.8888888888888888,
              "#fdca26"
             ],
             [
              1,
              "#f0f921"
             ]
            ],
            "type": "heatmapgl"
           }
          ],
          "histogram": [
           {
            "marker": {
             "colorbar": {
              "outlinewidth": 0,
              "ticks": ""
             }
            },
            "type": "histogram"
           }
          ],
          "histogram2d": [
           {
            "colorbar": {
             "outlinewidth": 0,
             "ticks": ""
            },
            "colorscale": [
             [
              0,
              "#0d0887"
             ],
             [
              0.1111111111111111,
              "#46039f"
             ],
             [
              0.2222222222222222,
              "#7201a8"
             ],
             [
              0.3333333333333333,
              "#9c179e"
             ],
             [
              0.4444444444444444,
              "#bd3786"
             ],
             [
              0.5555555555555556,
              "#d8576b"
             ],
             [
              0.6666666666666666,
              "#ed7953"
             ],
             [
              0.7777777777777778,
              "#fb9f3a"
             ],
             [
              0.8888888888888888,
              "#fdca26"
             ],
             [
              1,
              "#f0f921"
             ]
            ],
            "type": "histogram2d"
           }
          ],
          "histogram2dcontour": [
           {
            "colorbar": {
             "outlinewidth": 0,
             "ticks": ""
            },
            "colorscale": [
             [
              0,
              "#0d0887"
             ],
             [
              0.1111111111111111,
              "#46039f"
             ],
             [
              0.2222222222222222,
              "#7201a8"
             ],
             [
              0.3333333333333333,
              "#9c179e"
             ],
             [
              0.4444444444444444,
              "#bd3786"
             ],
             [
              0.5555555555555556,
              "#d8576b"
             ],
             [
              0.6666666666666666,
              "#ed7953"
             ],
             [
              0.7777777777777778,
              "#fb9f3a"
             ],
             [
              0.8888888888888888,
              "#fdca26"
             ],
             [
              1,
              "#f0f921"
             ]
            ],
            "type": "histogram2dcontour"
           }
          ],
          "mesh3d": [
           {
            "colorbar": {
             "outlinewidth": 0,
             "ticks": ""
            },
            "type": "mesh3d"
           }
          ],
          "parcoords": [
           {
            "line": {
             "colorbar": {
              "outlinewidth": 0,
              "ticks": ""
             }
            },
            "type": "parcoords"
           }
          ],
          "pie": [
           {
            "automargin": true,
            "type": "pie"
           }
          ],
          "scatter": [
           {
            "marker": {
             "colorbar": {
              "outlinewidth": 0,
              "ticks": ""
             }
            },
            "type": "scatter"
           }
          ],
          "scatter3d": [
           {
            "line": {
             "colorbar": {
              "outlinewidth": 0,
              "ticks": ""
             }
            },
            "marker": {
             "colorbar": {
              "outlinewidth": 0,
              "ticks": ""
             }
            },
            "type": "scatter3d"
           }
          ],
          "scattercarpet": [
           {
            "marker": {
             "colorbar": {
              "outlinewidth": 0,
              "ticks": ""
             }
            },
            "type": "scattercarpet"
           }
          ],
          "scattergeo": [
           {
            "marker": {
             "colorbar": {
              "outlinewidth": 0,
              "ticks": ""
             }
            },
            "type": "scattergeo"
           }
          ],
          "scattergl": [
           {
            "marker": {
             "colorbar": {
              "outlinewidth": 0,
              "ticks": ""
             }
            },
            "type": "scattergl"
           }
          ],
          "scattermapbox": [
           {
            "marker": {
             "colorbar": {
              "outlinewidth": 0,
              "ticks": ""
             }
            },
            "type": "scattermapbox"
           }
          ],
          "scatterpolar": [
           {
            "marker": {
             "colorbar": {
              "outlinewidth": 0,
              "ticks": ""
             }
            },
            "type": "scatterpolar"
           }
          ],
          "scatterpolargl": [
           {
            "marker": {
             "colorbar": {
              "outlinewidth": 0,
              "ticks": ""
             }
            },
            "type": "scatterpolargl"
           }
          ],
          "scatterternary": [
           {
            "marker": {
             "colorbar": {
              "outlinewidth": 0,
              "ticks": ""
             }
            },
            "type": "scatterternary"
           }
          ],
          "surface": [
           {
            "colorbar": {
             "outlinewidth": 0,
             "ticks": ""
            },
            "colorscale": [
             [
              0,
              "#0d0887"
             ],
             [
              0.1111111111111111,
              "#46039f"
             ],
             [
              0.2222222222222222,
              "#7201a8"
             ],
             [
              0.3333333333333333,
              "#9c179e"
             ],
             [
              0.4444444444444444,
              "#bd3786"
             ],
             [
              0.5555555555555556,
              "#d8576b"
             ],
             [
              0.6666666666666666,
              "#ed7953"
             ],
             [
              0.7777777777777778,
              "#fb9f3a"
             ],
             [
              0.8888888888888888,
              "#fdca26"
             ],
             [
              1,
              "#f0f921"
             ]
            ],
            "type": "surface"
           }
          ],
          "table": [
           {
            "cells": {
             "fill": {
              "color": "#EBF0F8"
             },
             "line": {
              "color": "white"
             }
            },
            "header": {
             "fill": {
              "color": "#C8D4E3"
             },
             "line": {
              "color": "white"
             }
            },
            "type": "table"
           }
          ]
         },
         "layout": {
          "annotationdefaults": {
           "arrowcolor": "#2a3f5f",
           "arrowhead": 0,
           "arrowwidth": 1
          },
          "coloraxis": {
           "colorbar": {
            "outlinewidth": 0,
            "ticks": ""
           }
          },
          "colorscale": {
           "diverging": [
            [
             0,
             "#8e0152"
            ],
            [
             0.1,
             "#c51b7d"
            ],
            [
             0.2,
             "#de77ae"
            ],
            [
             0.3,
             "#f1b6da"
            ],
            [
             0.4,
             "#fde0ef"
            ],
            [
             0.5,
             "#f7f7f7"
            ],
            [
             0.6,
             "#e6f5d0"
            ],
            [
             0.7,
             "#b8e186"
            ],
            [
             0.8,
             "#7fbc41"
            ],
            [
             0.9,
             "#4d9221"
            ],
            [
             1,
             "#276419"
            ]
           ],
           "sequential": [
            [
             0,
             "#0d0887"
            ],
            [
             0.1111111111111111,
             "#46039f"
            ],
            [
             0.2222222222222222,
             "#7201a8"
            ],
            [
             0.3333333333333333,
             "#9c179e"
            ],
            [
             0.4444444444444444,
             "#bd3786"
            ],
            [
             0.5555555555555556,
             "#d8576b"
            ],
            [
             0.6666666666666666,
             "#ed7953"
            ],
            [
             0.7777777777777778,
             "#fb9f3a"
            ],
            [
             0.8888888888888888,
             "#fdca26"
            ],
            [
             1,
             "#f0f921"
            ]
           ],
           "sequentialminus": [
            [
             0,
             "#0d0887"
            ],
            [
             0.1111111111111111,
             "#46039f"
            ],
            [
             0.2222222222222222,
             "#7201a8"
            ],
            [
             0.3333333333333333,
             "#9c179e"
            ],
            [
             0.4444444444444444,
             "#bd3786"
            ],
            [
             0.5555555555555556,
             "#d8576b"
            ],
            [
             0.6666666666666666,
             "#ed7953"
            ],
            [
             0.7777777777777778,
             "#fb9f3a"
            ],
            [
             0.8888888888888888,
             "#fdca26"
            ],
            [
             1,
             "#f0f921"
            ]
           ]
          },
          "colorway": [
           "#636efa",
           "#EF553B",
           "#00cc96",
           "#ab63fa",
           "#FFA15A",
           "#19d3f3",
           "#FF6692",
           "#B6E880",
           "#FF97FF",
           "#FECB52"
          ],
          "font": {
           "color": "#2a3f5f"
          },
          "geo": {
           "bgcolor": "white",
           "lakecolor": "white",
           "landcolor": "#E5ECF6",
           "showlakes": true,
           "showland": true,
           "subunitcolor": "white"
          },
          "hoverlabel": {
           "align": "left"
          },
          "hovermode": "closest",
          "mapbox": {
           "style": "light"
          },
          "paper_bgcolor": "white",
          "plot_bgcolor": "#E5ECF6",
          "polar": {
           "angularaxis": {
            "gridcolor": "white",
            "linecolor": "white",
            "ticks": ""
           },
           "bgcolor": "#E5ECF6",
           "radialaxis": {
            "gridcolor": "white",
            "linecolor": "white",
            "ticks": ""
           }
          },
          "scene": {
           "xaxis": {
            "backgroundcolor": "#E5ECF6",
            "gridcolor": "white",
            "gridwidth": 2,
            "linecolor": "white",
            "showbackground": true,
            "ticks": "",
            "zerolinecolor": "white"
           },
           "yaxis": {
            "backgroundcolor": "#E5ECF6",
            "gridcolor": "white",
            "gridwidth": 2,
            "linecolor": "white",
            "showbackground": true,
            "ticks": "",
            "zerolinecolor": "white"
           },
           "zaxis": {
            "backgroundcolor": "#E5ECF6",
            "gridcolor": "white",
            "gridwidth": 2,
            "linecolor": "white",
            "showbackground": true,
            "ticks": "",
            "zerolinecolor": "white"
           }
          },
          "shapedefaults": {
           "line": {
            "color": "#2a3f5f"
           }
          },
          "ternary": {
           "aaxis": {
            "gridcolor": "white",
            "linecolor": "white",
            "ticks": ""
           },
           "baxis": {
            "gridcolor": "white",
            "linecolor": "white",
            "ticks": ""
           },
           "bgcolor": "#E5ECF6",
           "caxis": {
            "gridcolor": "white",
            "linecolor": "white",
            "ticks": ""
           }
          },
          "title": {
           "x": 0.05
          },
          "xaxis": {
           "automargin": true,
           "gridcolor": "white",
           "linecolor": "white",
           "ticks": "",
           "title": {
            "standoff": 15
           },
           "zerolinecolor": "white",
           "zerolinewidth": 2
          },
          "yaxis": {
           "automargin": true,
           "gridcolor": "white",
           "linecolor": "white",
           "ticks": "",
           "title": {
            "standoff": 15
           },
           "zerolinecolor": "white",
           "zerolinewidth": 2
          }
         }
        },
        "title": {
         "text": "Trend of COVID-19 Cases in Alameda County, CA"
        },
        "xaxis": {
         "anchor": "y",
         "domain": [
          0,
          1
         ],
         "title": {
          "text": "x"
         }
        },
        "yaxis": {
         "anchor": "x",
         "domain": [
          0,
          1
         ],
         "title": {
          "text": "y"
         }
        }
       }
      },
      "text/html": [
       "<div>\n",
       "        \n",
       "        \n",
       "            <div id=\"71e3b57e-cbc8-40ba-9202-2824f252e6d3\" class=\"plotly-graph-div\" style=\"height:525px; width:100%;\"></div>\n",
       "            <script type=\"text/javascript\">\n",
       "                require([\"plotly\"], function(Plotly) {\n",
       "                    window.PLOTLYENV=window.PLOTLYENV || {};\n",
       "                    \n",
       "                if (document.getElementById(\"71e3b57e-cbc8-40ba-9202-2824f252e6d3\")) {\n",
       "                    Plotly.newPlot(\n",
       "                        '71e3b57e-cbc8-40ba-9202-2824f252e6d3',\n",
       "                        [{\"hovertemplate\": \"x=%{x}<br>y=%{y}<extra></extra>\", \"legendgroup\": \"\", \"marker\": {\"color\": \"#636efa\", \"symbol\": \"circle\"}, \"mode\": \"markers\", \"name\": \"\", \"showlegend\": false, \"type\": \"scatter\", \"x\": [\"2020-03-13\", \"2020-03-14\", \"2020-03-15\", \"2020-03-16\", \"2020-03-17\", \"2020-03-18\", \"2020-03-19\", \"2020-03-20\", \"2020-03-21\", \"2020-03-22\", \"2020-03-23\", \"2020-03-24\", \"2020-03-25\", \"2020-03-26\", \"2020-03-27\", \"2020-03-28\", \"2020-03-29\", \"2020-03-30\", \"2020-03-31\", \"2020-04-01\", \"2020-04-02\", \"2020-04-03\", \"2020-04-04\", \"2020-04-05\", \"2020-04-06\", \"2020-04-07\", \"2020-04-08\", \"2020-04-09\", \"2020-04-10\", \"2020-04-11\", \"2020-04-12\", \"2020-04-13\", \"2020-04-14\", \"2020-04-15\", \"2020-04-16\", \"2020-04-17\", \"2020-04-18\", \"2020-04-19\", \"2020-04-20\", \"2020-04-21\", \"2020-04-22\", \"2020-04-23\", \"2020-04-24\", \"2020-04-25\", \"2020-04-26\", \"2020-04-27\", \"2020-04-28\", \"2020-04-29\", \"2020-04-30\", \"2020-05-01\", \"2020-05-02\", \"2020-05-03\", \"2020-05-04\", \"2020-05-05\", \"2020-05-06\", \"2020-05-07\", \"2020-05-08\", \"2020-05-09\", \"2020-05-10\", \"2020-05-11\", \"2020-05-12\", \"2020-05-13\", \"2020-05-14\", \"2020-05-15\", \"2020-05-16\", \"2020-05-17\", \"2020-05-18\", \"2020-05-19\", \"2020-05-20\", \"2020-05-21\", \"2020-05-22\", \"2020-05-23\", \"2020-05-24\", \"2020-05-25\", \"2020-05-26\", \"2020-05-27\", \"2020-05-28\", \"2020-05-29\", \"2020-05-30\", \"2020-05-31\", \"2020-06-01\", \"2020-06-02\", \"2020-06-03\", \"2020-06-04\", \"2020-06-05\", \"2020-06-06\", \"2020-06-07\", \"2020-06-08\", \"2020-06-09\", \"2020-06-10\", \"2020-06-11\", \"2020-06-12\", \"2020-06-13\"], \"xaxis\": \"x\", \"y\": [7, 7, 15, 18, 27, 31, 35, 45, 65, 106, 122, 124, 135, 163, 220, 256, 270, 283, 313, 359, 396, 443, 537, 566, 588, 634, 674, 713, 766, 806, 843, 884, 884, 962, 1007, 1061, 1114, 1164, 1191, 1239, 1280, 1350, 1401, 1437, 1468, 1498, 1533, 1568, 1603, 1636, 1705, 1749, 1776, 1809, 1863, 1917, 1961, 2023, 2064, 2101, 2133, 2178, 2234, 2300, 2351, 2392, 2457, 2522, 2560, 2609, 2708, 2767, 2847, 2874, 2986, 3049, 3097, 3195, 3289, 3390, 3470, 3515, 3548, 3641, 3725, 3805, 3874, 3945, 3985, 4033, 4119, 4216, 4216], \"yaxis\": \"y\"}],\n",
       "                        {\"legend\": {\"tracegroupgap\": 0}, \"margin\": {\"t\": 60}, \"template\": {\"data\": {\"bar\": [{\"error_x\": {\"color\": \"#2a3f5f\"}, \"error_y\": {\"color\": \"#2a3f5f\"}, \"marker\": {\"line\": {\"color\": \"#E5ECF6\", \"width\": 0.5}}, \"type\": \"bar\"}], \"barpolar\": [{\"marker\": {\"line\": {\"color\": \"#E5ECF6\", \"width\": 0.5}}, \"type\": \"barpolar\"}], \"carpet\": [{\"aaxis\": {\"endlinecolor\": \"#2a3f5f\", \"gridcolor\": \"white\", \"linecolor\": \"white\", \"minorgridcolor\": \"white\", \"startlinecolor\": \"#2a3f5f\"}, \"baxis\": {\"endlinecolor\": \"#2a3f5f\", \"gridcolor\": \"white\", \"linecolor\": \"white\", \"minorgridcolor\": \"white\", \"startlinecolor\": \"#2a3f5f\"}, \"type\": \"carpet\"}], \"choropleth\": [{\"colorbar\": {\"outlinewidth\": 0, \"ticks\": \"\"}, \"type\": \"choropleth\"}], \"contour\": [{\"colorbar\": {\"outlinewidth\": 0, \"ticks\": \"\"}, \"colorscale\": [[0.0, \"#0d0887\"], [0.1111111111111111, \"#46039f\"], [0.2222222222222222, \"#7201a8\"], [0.3333333333333333, \"#9c179e\"], [0.4444444444444444, \"#bd3786\"], [0.5555555555555556, \"#d8576b\"], [0.6666666666666666, \"#ed7953\"], [0.7777777777777778, \"#fb9f3a\"], [0.8888888888888888, \"#fdca26\"], [1.0, \"#f0f921\"]], \"type\": \"contour\"}], \"contourcarpet\": [{\"colorbar\": {\"outlinewidth\": 0, \"ticks\": \"\"}, \"type\": \"contourcarpet\"}], \"heatmap\": [{\"colorbar\": {\"outlinewidth\": 0, \"ticks\": \"\"}, \"colorscale\": [[0.0, \"#0d0887\"], [0.1111111111111111, \"#46039f\"], [0.2222222222222222, \"#7201a8\"], [0.3333333333333333, \"#9c179e\"], [0.4444444444444444, \"#bd3786\"], [0.5555555555555556, \"#d8576b\"], [0.6666666666666666, \"#ed7953\"], [0.7777777777777778, \"#fb9f3a\"], [0.8888888888888888, \"#fdca26\"], [1.0, \"#f0f921\"]], \"type\": \"heatmap\"}], \"heatmapgl\": [{\"colorbar\": {\"outlinewidth\": 0, \"ticks\": \"\"}, \"colorscale\": [[0.0, \"#0d0887\"], [0.1111111111111111, \"#46039f\"], [0.2222222222222222, \"#7201a8\"], [0.3333333333333333, \"#9c179e\"], [0.4444444444444444, \"#bd3786\"], [0.5555555555555556, \"#d8576b\"], [0.6666666666666666, \"#ed7953\"], [0.7777777777777778, \"#fb9f3a\"], [0.8888888888888888, \"#fdca26\"], [1.0, \"#f0f921\"]], \"type\": \"heatmapgl\"}], \"histogram\": [{\"marker\": {\"colorbar\": {\"outlinewidth\": 0, \"ticks\": \"\"}}, \"type\": \"histogram\"}], \"histogram2d\": [{\"colorbar\": {\"outlinewidth\": 0, \"ticks\": \"\"}, \"colorscale\": [[0.0, \"#0d0887\"], [0.1111111111111111, \"#46039f\"], [0.2222222222222222, \"#7201a8\"], [0.3333333333333333, \"#9c179e\"], [0.4444444444444444, \"#bd3786\"], [0.5555555555555556, \"#d8576b\"], [0.6666666666666666, \"#ed7953\"], [0.7777777777777778, \"#fb9f3a\"], [0.8888888888888888, \"#fdca26\"], [1.0, \"#f0f921\"]], \"type\": \"histogram2d\"}], \"histogram2dcontour\": [{\"colorbar\": {\"outlinewidth\": 0, \"ticks\": \"\"}, \"colorscale\": [[0.0, \"#0d0887\"], [0.1111111111111111, \"#46039f\"], [0.2222222222222222, \"#7201a8\"], [0.3333333333333333, \"#9c179e\"], [0.4444444444444444, \"#bd3786\"], [0.5555555555555556, \"#d8576b\"], [0.6666666666666666, \"#ed7953\"], [0.7777777777777778, \"#fb9f3a\"], [0.8888888888888888, \"#fdca26\"], [1.0, \"#f0f921\"]], \"type\": \"histogram2dcontour\"}], \"mesh3d\": [{\"colorbar\": {\"outlinewidth\": 0, \"ticks\": \"\"}, \"type\": \"mesh3d\"}], \"parcoords\": [{\"line\": {\"colorbar\": {\"outlinewidth\": 0, \"ticks\": \"\"}}, \"type\": \"parcoords\"}], \"pie\": [{\"automargin\": true, \"type\": \"pie\"}], \"scatter\": [{\"marker\": {\"colorbar\": {\"outlinewidth\": 0, \"ticks\": \"\"}}, \"type\": \"scatter\"}], \"scatter3d\": [{\"line\": {\"colorbar\": {\"outlinewidth\": 0, \"ticks\": \"\"}}, \"marker\": {\"colorbar\": {\"outlinewidth\": 0, \"ticks\": \"\"}}, \"type\": \"scatter3d\"}], \"scattercarpet\": [{\"marker\": {\"colorbar\": {\"outlinewidth\": 0, \"ticks\": \"\"}}, \"type\": \"scattercarpet\"}], \"scattergeo\": [{\"marker\": {\"colorbar\": {\"outlinewidth\": 0, \"ticks\": \"\"}}, \"type\": \"scattergeo\"}], \"scattergl\": [{\"marker\": {\"colorbar\": {\"outlinewidth\": 0, \"ticks\": \"\"}}, \"type\": \"scattergl\"}], \"scattermapbox\": [{\"marker\": {\"colorbar\": {\"outlinewidth\": 0, \"ticks\": \"\"}}, \"type\": \"scattermapbox\"}], \"scatterpolar\": [{\"marker\": {\"colorbar\": {\"outlinewidth\": 0, \"ticks\": \"\"}}, \"type\": \"scatterpolar\"}], \"scatterpolargl\": [{\"marker\": {\"colorbar\": {\"outlinewidth\": 0, \"ticks\": \"\"}}, \"type\": \"scatterpolargl\"}], \"scatterternary\": [{\"marker\": {\"colorbar\": {\"outlinewidth\": 0, \"ticks\": \"\"}}, \"type\": \"scatterternary\"}], \"surface\": [{\"colorbar\": {\"outlinewidth\": 0, \"ticks\": \"\"}, \"colorscale\": [[0.0, \"#0d0887\"], [0.1111111111111111, \"#46039f\"], [0.2222222222222222, \"#7201a8\"], [0.3333333333333333, \"#9c179e\"], [0.4444444444444444, \"#bd3786\"], [0.5555555555555556, \"#d8576b\"], [0.6666666666666666, \"#ed7953\"], [0.7777777777777778, \"#fb9f3a\"], [0.8888888888888888, \"#fdca26\"], [1.0, \"#f0f921\"]], \"type\": \"surface\"}], \"table\": [{\"cells\": {\"fill\": {\"color\": \"#EBF0F8\"}, \"line\": {\"color\": \"white\"}}, \"header\": {\"fill\": {\"color\": \"#C8D4E3\"}, \"line\": {\"color\": \"white\"}}, \"type\": \"table\"}]}, \"layout\": {\"annotationdefaults\": {\"arrowcolor\": \"#2a3f5f\", \"arrowhead\": 0, \"arrowwidth\": 1}, \"coloraxis\": {\"colorbar\": {\"outlinewidth\": 0, \"ticks\": \"\"}}, \"colorscale\": {\"diverging\": [[0, \"#8e0152\"], [0.1, \"#c51b7d\"], [0.2, \"#de77ae\"], [0.3, \"#f1b6da\"], [0.4, \"#fde0ef\"], [0.5, \"#f7f7f7\"], [0.6, \"#e6f5d0\"], [0.7, \"#b8e186\"], [0.8, \"#7fbc41\"], [0.9, \"#4d9221\"], [1, \"#276419\"]], \"sequential\": [[0.0, \"#0d0887\"], [0.1111111111111111, \"#46039f\"], [0.2222222222222222, \"#7201a8\"], [0.3333333333333333, \"#9c179e\"], [0.4444444444444444, \"#bd3786\"], [0.5555555555555556, \"#d8576b\"], [0.6666666666666666, \"#ed7953\"], [0.7777777777777778, \"#fb9f3a\"], [0.8888888888888888, \"#fdca26\"], [1.0, \"#f0f921\"]], \"sequentialminus\": [[0.0, \"#0d0887\"], [0.1111111111111111, \"#46039f\"], [0.2222222222222222, \"#7201a8\"], [0.3333333333333333, \"#9c179e\"], [0.4444444444444444, \"#bd3786\"], [0.5555555555555556, \"#d8576b\"], [0.6666666666666666, \"#ed7953\"], [0.7777777777777778, \"#fb9f3a\"], [0.8888888888888888, \"#fdca26\"], [1.0, \"#f0f921\"]]}, \"colorway\": [\"#636efa\", \"#EF553B\", \"#00cc96\", \"#ab63fa\", \"#FFA15A\", \"#19d3f3\", \"#FF6692\", \"#B6E880\", \"#FF97FF\", \"#FECB52\"], \"font\": {\"color\": \"#2a3f5f\"}, \"geo\": {\"bgcolor\": \"white\", \"lakecolor\": \"white\", \"landcolor\": \"#E5ECF6\", \"showlakes\": true, \"showland\": true, \"subunitcolor\": \"white\"}, \"hoverlabel\": {\"align\": \"left\"}, \"hovermode\": \"closest\", \"mapbox\": {\"style\": \"light\"}, \"paper_bgcolor\": \"white\", \"plot_bgcolor\": \"#E5ECF6\", \"polar\": {\"angularaxis\": {\"gridcolor\": \"white\", \"linecolor\": \"white\", \"ticks\": \"\"}, \"bgcolor\": \"#E5ECF6\", \"radialaxis\": {\"gridcolor\": \"white\", \"linecolor\": \"white\", \"ticks\": \"\"}}, \"scene\": {\"xaxis\": {\"backgroundcolor\": \"#E5ECF6\", \"gridcolor\": \"white\", \"gridwidth\": 2, \"linecolor\": \"white\", \"showbackground\": true, \"ticks\": \"\", \"zerolinecolor\": \"white\"}, \"yaxis\": {\"backgroundcolor\": \"#E5ECF6\", \"gridcolor\": \"white\", \"gridwidth\": 2, \"linecolor\": \"white\", \"showbackground\": true, \"ticks\": \"\", \"zerolinecolor\": \"white\"}, \"zaxis\": {\"backgroundcolor\": \"#E5ECF6\", \"gridcolor\": \"white\", \"gridwidth\": 2, \"linecolor\": \"white\", \"showbackground\": true, \"ticks\": \"\", \"zerolinecolor\": \"white\"}}, \"shapedefaults\": {\"line\": {\"color\": \"#2a3f5f\"}}, \"ternary\": {\"aaxis\": {\"gridcolor\": \"white\", \"linecolor\": \"white\", \"ticks\": \"\"}, \"baxis\": {\"gridcolor\": \"white\", \"linecolor\": \"white\", \"ticks\": \"\"}, \"bgcolor\": \"#E5ECF6\", \"caxis\": {\"gridcolor\": \"white\", \"linecolor\": \"white\", \"ticks\": \"\"}}, \"title\": {\"x\": 0.05}, \"xaxis\": {\"automargin\": true, \"gridcolor\": \"white\", \"linecolor\": \"white\", \"ticks\": \"\", \"title\": {\"standoff\": 15}, \"zerolinecolor\": \"white\", \"zerolinewidth\": 2}, \"yaxis\": {\"automargin\": true, \"gridcolor\": \"white\", \"linecolor\": \"white\", \"ticks\": \"\", \"title\": {\"standoff\": 15}, \"zerolinecolor\": \"white\", \"zerolinewidth\": 2}}}, \"title\": {\"text\": \"Trend of COVID-19 Cases in Alameda County, CA\"}, \"xaxis\": {\"anchor\": \"y\", \"domain\": [0.0, 1.0], \"title\": {\"text\": \"x\"}}, \"yaxis\": {\"anchor\": \"x\", \"domain\": [0.0, 1.0], \"title\": {\"text\": \"y\"}}},\n",
       "                        {\"responsive\": true}\n",
       "                    ).then(function(){\n",
       "                            \n",
       "var gd = document.getElementById('71e3b57e-cbc8-40ba-9202-2824f252e6d3');\n",
       "var x = new MutationObserver(function (mutations, observer) {{\n",
       "        var display = window.getComputedStyle(gd).display;\n",
       "        if (!display || display === 'none') {{\n",
       "            console.log([gd, 'removed!']);\n",
       "            Plotly.purge(gd);\n",
       "            observer.disconnect();\n",
       "        }}\n",
       "}});\n",
       "\n",
       "// Listen for the removal of the full notebook cells\n",
       "var notebookContainer = gd.closest('#notebook-container');\n",
       "if (notebookContainer) {{\n",
       "    x.observe(notebookContainer, {childList: true});\n",
       "}}\n",
       "\n",
       "// Listen for the clearing of the current output cell\n",
       "var outputEl = gd.closest('.output');\n",
       "if (outputEl) {{\n",
       "    x.observe(outputEl, {childList: true});\n",
       "}}\n",
       "\n",
       "                        })\n",
       "                };\n",
       "                });\n",
       "            </script>\n",
       "        </div>"
      ]
     },
     "metadata": {},
     "output_type": "display_data"
    }
   ],
   "source": [
    "state = input('State: ')\n",
    "assert state in covid.State.tolist(), 'Make sure the State is a two letter code'\n",
    "county = input('County: ')\n",
    "assert county in covid[covid.State == state]['County Name'].tolist(), 'Could not find that county'\n",
    "fig = px.scatter(covid[(covid.State == state) & (covid['County Name'] == county)],\n",
    "    x=covid[(covid.State == state) & (covid['County Name'] == county)].columns[55:], \n",
    "    y=covid[(covid.State == state) & (covid['County Name'] == county)][covid.columns[55:]].iloc[0].tolist(),\n",
    "    #animation_frame = 'date',animation_group = 'state',\n",
    "    #color = 'region', #hover_name = 'State',#size=mob_case_state[mob_case_state.date.isin(dates[55:])].proportion.tolist(),\n",
    "    #log_y = True,range_y = [1,400000]\n",
    "    )\n",
    "fig.update_layout(\n",
    "    title_text = 'Trend of COVID-19 Cases in ' + county + ', ' + state\n",
    "    )\n",
    "fig.show()"
   ]
  },
  {
   "cell_type": "code",
   "execution_count": 52,
   "metadata": {},
   "outputs": [
    {
     "data": {
      "text/plain": [
       "(-17.0, 21.0)"
      ]
     },
     "execution_count": 52,
     "metadata": {},
     "output_type": "execute_result"
    }
   ],
   "source": [
    "np.nanquantile(full_final[full_final.date.isin(dates[23:51])]['grocery and pharmacy'].tolist(),.15),np.nanquantile(full_final[full_final.date.isin(dates[23:51])]['grocery and pharmacy'].tolist(),.85)"
   ]
  },
  {
   "cell_type": "code",
   "execution_count": 53,
   "metadata": {},
   "outputs": [],
   "source": [
    "# Animated HTML better than what we had been making with the movies...\n",
    "fig = px.choropleth(full_final[full_final.date.isin(dates[23:51])],\n",
    "    locations='fips',\n",
    "    geojson=counties,\n",
    "    color = 'grocery and pharmacy',\n",
    "    scope='usa',\n",
    "    animation_frame = 'date',\n",
    "    animation_group = 'fips',\n",
    "    range_color = (-40,10)          \n",
    "             )\n",
    "fig.update_layout(\n",
    "    title_text = 'Changing Movement to Grocery Stores',\n",
    "    title_x = .5)\n",
    "fig.write_html(r'html/grocery_anim.html')"
   ]
  },
  {
   "cell_type": "markdown",
   "metadata": {},
   "source": [
    "# Test Figure\n",
    "fig = go.Figure(data=go.Choropleth(\n",
    "    locations = full_final.fips,\n",
    "    z = full_final.parks,\n",
    "    geojson = counties,\n",
    "    zmin = -60, zmid = -35, zmax = 95,\n",
    "    colorscale = 'Viridis',\n",
    "    colorbar_title = 'difference<br>from baseline',\n",
    "    colorbar_ticksuffix = '%',\n",
    "    text = full_final[(full_final.date=='2020-03-20')].text\n",
    "    ))\n",
    "\n",
    "fig.update_layout(\n",
    "    title={\n",
    "        'text': 'March 20, 2020',\n",
    "        'y':.1,\n",
    "        'x':.1\n",
    "    },\n",
    "    geo_scope = 'usa'\n",
    "    )"
   ]
  },
  {
   "cell_type": "markdown",
   "metadata": {},
   "source": [
    "## Set of Graphics for March"
   ]
  },
  {
   "cell_type": "code",
   "execution_count": 45,
   "metadata": {
    "scrolled": true
   },
   "outputs": [],
   "source": [
    "#Retail\n",
    "for date in dates[21:51]:\n",
    "    datetime_obj = datetime.strptime(date,'%Y-%m-%d')\n",
    "    fig = go.Figure(data=go.Choropleth(\n",
    "        locations = full_final[full_final.date==date].fips,\n",
    "        z = full_final[full_final.date==date].retail,\n",
    "        geojson = counties,\n",
    "        zmin = -60, zmid = 0, zmax = 15,\n",
    "        colorscale = 'Viridis',\n",
    "        colorbar_title = 'difference<br>from baseline',\n",
    "        colorbar_ticksuffix = '%'\n",
    "    ))\n",
    "    fig.update_layout(\n",
    "        title={\n",
    "            'text': datetime_obj.strftime('%B')+' '+str(datetime_obj.day)+', '+str(datetime_obj.year),\n",
    "            'y':.1,\n",
    "            'x':.1\n",
    "        },\n",
    "        geo_scope = 'usa',\n",
    "        height = 1000, width = 2000\n",
    "    )\n",
    "    #fig.write_html(r'html/retail_html/retail_'+date+'.html')\n",
    "    #fig.write_image(r'png/retail_scrn/retail_'+date+'.png')"
   ]
  },
  {
   "cell_type": "code",
   "execution_count": 46,
   "metadata": {},
   "outputs": [],
   "source": [
    "#Grocery And Pharmacy\n",
    "for date in dates[21:51]:\n",
    "    datetime_obj = datetime.strptime(date,'%Y-%m-%d')\n",
    "    fig = go.Figure(data=go.Choropleth(\n",
    "        locations = full_final[full_final.date==date].fips,\n",
    "        z = full_final[full_final.date==date]['grocery and pharmacy'],\n",
    "        geojson = counties,\n",
    "        zmin = -25, zmid = 0, zmax = 10,\n",
    "        colorscale = 'Viridis',\n",
    "        colorbar_title = 'difference<br>from baseline',\n",
    "        colorbar_ticksuffix = '%'\n",
    "    ))\n",
    "    fig.update_layout(\n",
    "        title={\n",
    "            'text': datetime_obj.strftime('%B')+' '+str(datetime_obj.day)+', '+str(datetime_obj.year),\n",
    "            'y':.1,\n",
    "            'x':.1\n",
    "        },\n",
    "        geo_scope = 'usa',\n",
    "        height = 1000, width = 2000\n",
    "    )\n",
    "    #fig.write_html(r'html/grocery_html/grocery_'+date+'.html')\n",
    "    #fig.write_image(r'png/grocery_scrn/grocery_'+date+'.png')"
   ]
  },
  {
   "cell_type": "code",
   "execution_count": 47,
   "metadata": {},
   "outputs": [],
   "source": [
    "#Parks\n",
    "for date in dates[21:51]:\n",
    "    datetime_obj = datetime.strptime(date,'%Y-%m-%d')\n",
    "    fig = go.Figure(data=go.Choropleth(\n",
    "        locations = full_final[full_final.date==date].fips,\n",
    "        z = full_final[full_final.date==date]['parks'],\n",
    "        geojson = counties,\n",
    "        zmin = -60, zmid = -35, zmax = 95,\n",
    "        colorscale = 'Viridis',\n",
    "        colorbar_title = 'difference<br>from baseline',\n",
    "        colorbar_ticksuffix = '%'\n",
    "    ))\n",
    "    fig.update_layout(\n",
    "        title={\n",
    "            'text': datetime_obj.strftime('%B')+' '+str(datetime_obj.day)+', '+str(datetime_obj.year),\n",
    "            'y':.1,\n",
    "            'x':.1\n",
    "        },\n",
    "        geo_scope = 'usa',\n",
    "        height = 1000, width = 2000\n",
    "    )\n",
    "    #fig.write_html(r'html/parks_html/parks'+date+'.html')\n",
    "    #fig.write_image(r'png/parks_scrn/parks'+date+'.png')"
   ]
  },
  {
   "cell_type": "code",
   "execution_count": 48,
   "metadata": {},
   "outputs": [],
   "source": [
    "#Transit Stations\n",
    "for date in dates[21:51]:\n",
    "    datetime_obj = datetime.strptime(date,'%Y-%m-%d')\n",
    "    fig = go.Figure(data=go.Choropleth(\n",
    "        locations = full_final[full_final.date==date].fips,\n",
    "        z = full_final[full_final.date==date]['transit stations'],\n",
    "        geojson = counties,\n",
    "        zmin = -70, zmid = 0, zmax = 5,\n",
    "        colorscale = 'Viridis',\n",
    "        colorbar_title = 'difference<br>from baseline',\n",
    "        colorbar_ticksuffix = '%'\n",
    "    ))\n",
    "    fig.update_layout(\n",
    "        title={\n",
    "            'text': datetime_obj.strftime('%B')+' '+str(datetime_obj.day)+', '+str(datetime_obj.year),\n",
    "            'y':.1,\n",
    "            'x':.1\n",
    "        },\n",
    "        geo_scope = 'usa',\n",
    "        height = 1000, width = 2000\n",
    "    )\n",
    "    #fig.write_html(r'html/transit_html/transit'+date+'.html')\n",
    "    #fig.write_image(r'png/transit_scrn/transit'+date+'.png')"
   ]
  },
  {
   "cell_type": "code",
   "execution_count": 50,
   "metadata": {},
   "outputs": [],
   "source": [
    "#Workplaces\n",
    "for date in dates[21:51]:\n",
    "    datetime_obj = datetime.strptime(date,'%Y-%m-%d')\n",
    "    fig = go.Figure(data=go.Choropleth(\n",
    "        locations = full_final[full_final.date==date].fips,\n",
    "        z = full_final[full_final.date==date]['workplaces'],\n",
    "        geojson = counties,\n",
    "        zmin = -60, zmid = 0, zmax = 5,\n",
    "        colorscale = 'Viridis',\n",
    "        colorbar_title = 'difference<br>from baseline',\n",
    "        colorbar_ticksuffix = '%'\n",
    "    ))\n",
    "    fig.update_layout(\n",
    "        title={\n",
    "            'text': datetime_obj.strftime('%B')+' '+str(datetime_obj.day)+', '+str(datetime_obj.year),\n",
    "            'y':.1,\n",
    "            'x':.1\n",
    "        },\n",
    "        geo_scope = 'usa',\n",
    "        height = 1000, width = 2000\n",
    "    )\n",
    "    #fig.write_html(r'html/workplaces_html/workplaces_'+date+'.html')\n",
    "    #fig.write_image(r'png/workplaces_scrn/workplaces_'+date+'.png')"
   ]
  }
 ],
 "metadata": {
  "kernelspec": {
   "display_name": "Python 3",
   "language": "python",
   "name": "python3"
  },
  "language_info": {
   "codemirror_mode": {
    "name": "ipython",
    "version": 3
   },
   "file_extension": ".py",
   "mimetype": "text/x-python",
   "name": "python",
   "nbconvert_exporter": "python",
   "pygments_lexer": "ipython3",
   "version": "3.7.4"
  }
 },
 "nbformat": 4,
 "nbformat_minor": 2
}
